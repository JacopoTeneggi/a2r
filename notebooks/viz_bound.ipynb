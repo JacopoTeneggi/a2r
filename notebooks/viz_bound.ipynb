{
 "cells": [
  {
   "cell_type": "code",
   "execution_count": null,
   "metadata": {},
   "outputs": [],
   "source": [
    "import os\n",
    "import numpy as np\n",
    "import matplotlib.pyplot as plt\n",
    "import seaborn as sns\n",
    "\n",
    "root_dir = \"../\"\n",
    "\n",
    "sns.set_style(\"white\")\n",
    "sns.set_context(\"paper\")"
   ]
  },
  {
   "cell_type": "code",
   "execution_count": null,
   "metadata": {},
   "outputs": [],
   "source": [
    "figure_dir = os.path.join(root_dir, \"figures\")\n",
    "os.makedirs(figure_dir, exist_ok=True)\n",
    "\n",
    "ub = lambda eta, xi, k: np.floor((1 - eta) / (1 - xi * (k - 1) / k))\n",
    "\n",
    "_, ax = plt.subplots(figsize=(16 / 4, 9 / 4))\n",
    "\n",
    "eta = 0.10\n",
    "k = np.power(2, np.arange(1, 11))\n",
    "for xi in [0.5, 0.7, 0.8, 0.9]:\n",
    "    ax.plot(k, ub(eta, xi, k), \"--o\", markersize=4, label=r\"$\\xi = %.1f$\" % xi)\n",
    "ax.set_xlabel(r\"$k$\")\n",
    "ax.set_ylabel(\"Upper bound\")\n",
    "ax.set_title(r\"$\\eta = %.2f$\" % eta)\n",
    "ax.set_xticks([0, 10, 100, 1000])\n",
    "ax.legend(loc=\"upper left\", bbox_to_anchor=(1, 1))\n",
    "ax.set_xscale(\"log\")\n",
    "plt.savefig(os.path.join(figure_dir, \"bound.pdf\"), bbox_inches=\"tight\")\n",
    "plt.savefig(os.path.join(figure_dir, \"bound.png\"), bbox_inches=\"tight\")\n",
    "plt.show()"
   ]
  },
  {
   "cell_type": "code",
   "execution_count": null,
   "metadata": {},
   "outputs": [],
   "source": [
    "ub = lambda eta, r: np.floor((1 - eta) / (1 - r))"
   ]
  }
 ],
 "metadata": {
  "kernelspec": {
   "display_name": "cuda118",
   "language": "python",
   "name": "python3"
  },
  "language_info": {
   "codemirror_mode": {
    "name": "ipython",
    "version": 3
   },
   "file_extension": ".py",
   "mimetype": "text/x-python",
   "name": "python",
   "nbconvert_exporter": "python",
   "pygments_lexer": "ipython3",
   "version": "3.10.14"
  }
 },
 "nbformat": 4,
 "nbformat_minor": 2
}
