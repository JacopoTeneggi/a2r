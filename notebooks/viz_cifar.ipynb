{
 "cells": [
  {
   "cell_type": "code",
   "execution_count": null,
   "metadata": {},
   "outputs": [],
   "source": [
    "import os\n",
    "import pandas as pd\n",
    "import numpy as np\n",
    "import torch\n",
    "import torchvision.transforms as T\n",
    "import matplotlib.pyplot as plt\n",
    "import seaborn as sns\n",
    "from torchvision.datasets import CIFAR100\n",
    "from torchvision.utils import make_grid\n",
    "from sklearn.metrics import confusion_matrix\n",
    "\n",
    "root_dir = \"../\"\n",
    "data_dir = os.path.join(root_dir, \"data\")\n",
    "results_dir = os.path.join(root_dir, \"results\")\n",
    "\n",
    "dataset = CIFAR100(data_dir, train=False, transform=T.ToTensor())\n",
    "\n",
    "results = pd.read_csv(os.path.join(results_dir, \"cifar100_predictions.csv\"))\n",
    "\n",
    "sns.set_theme()\n",
    "sns.set_context(\"paper\")"
   ]
  },
  {
   "cell_type": "code",
   "execution_count": null,
   "metadata": {},
   "outputs": [],
   "source": [
    "figure_dir = os.path.join(root_dir, \"figures\", \"cifar\")\n",
    "os.makedirs(figure_dir, exist_ok=True)\n",
    "\n",
    "m = 6\n",
    "idx = np.random.choice(len(dataset), m, replace=False)\n",
    "images = torch.stack([dataset[i][0] for i in idx])\n",
    "\n",
    "_, ax = plt.subplots(figsize=(16 / 4, 9 / 2))\n",
    "grid = make_grid(images, nrow=2)\n",
    "ax.imshow(grid.permute(1, 2, 0))\n",
    "ax.axis(\"off\")\n",
    "ax.set_title(\"Original\")\n",
    "plt.savefig(os.path.join(figure_dir, \"original.pdf\"))\n",
    "plt.show()\n",
    "\n",
    "for shift in [0, 0.2, 0.4, 0.6, 0.8, 1.0]:\n",
    "    shifted_images = T.functional.solarize(images, shift)\n",
    "\n",
    "    _, ax = plt.subplots(figsize=(16 / 4, 9 / 2))\n",
    "    grid = make_grid(shifted_images, nrow=2)\n",
    "    ax.imshow(grid.permute(1, 2, 0))\n",
    "    ax.axis(\"off\")\n",
    "    ax.set_title(f\"Threshold = {shift:.1f}\")\n",
    "    plt.savefig(os.path.join(figure_dir, f\"solarize_{shift:.1f}.pdf\"))\n",
    "    plt.show()"
   ]
  },
  {
   "cell_type": "code",
   "execution_count": null,
   "metadata": {},
   "outputs": [],
   "source": [
    "prediction, label = results[\"prediction\"].values, results[\"label\"].values\n",
    "cm = confusion_matrix(label, prediction, normalize=\"true\")\n",
    "\n",
    "_, ax = plt.subplots(figsize=(5, 5))\n",
    "sns.heatmap(cm, cmap=\"viridis\", ax=ax)\n",
    "ax.set_xlabel(\"Predicted label\")\n",
    "ax.set_ylabel(\"True label\")\n",
    "ax.axis(\"equal\")\n",
    "ax.set_title(f\"Confusion matrix for CLIP ViT-L/14\\naccuracy = {np.diag(cm).mean():.2%}\")\n",
    "plt.show()"
   ]
  },
  {
   "cell_type": "code",
   "execution_count": null,
   "metadata": {},
   "outputs": [],
   "source": []
  }
 ],
 "metadata": {
  "kernelspec": {
   "display_name": "cuda118",
   "language": "python",
   "name": "python3"
  },
  "language_info": {
   "codemirror_mode": {
    "name": "ipython",
    "version": 3
   },
   "file_extension": ".py",
   "mimetype": "text/x-python",
   "name": "python",
   "nbconvert_exporter": "python",
   "pygments_lexer": "ipython3",
   "version": "3.10.14"
  }
 },
 "nbformat": 4,
 "nbformat_minor": 2
}
